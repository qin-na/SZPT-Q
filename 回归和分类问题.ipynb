{
  "nbformat": 4,
  "nbformat_minor": 0,
  "metadata": {
    "colab": {
      "provenance": [],
      "mount_file_id": "1wz-FDnxwdkpljl-fxSvJJtSttfOQNfuS",
      "authorship_tag": "ABX9TyM+NqIuwdmhXSIRp4GjdQ/1",
      "include_colab_link": true
    },
    "kernelspec": {
      "name": "python3",
      "display_name": "Python 3"
    },
    "language_info": {
      "name": "python"
    },
    "gpuClass": "standard",
    "accelerator": "GPU"
  },
  "cells": [
    {
      "cell_type": "markdown",
      "metadata": {
        "id": "view-in-github",
        "colab_type": "text"
      },
      "source": [
        "<a href=\"https://colab.research.google.com/github/qin-na/SZPT-Q/blob/main/%E5%9B%9E%E5%BD%92%E5%92%8C%E5%88%86%E7%B1%BB%E9%97%AE%E9%A2%98.ipynb\" target=\"_parent\"><img src=\"https://colab.research.google.com/assets/colab-badge.svg\" alt=\"Open In Colab\"/></a>"
      ]
    },
    {
      "cell_type": "code",
      "source": [
        "from google.colab import drive\n",
        "drive.mount('/content/drive')"
      ],
      "metadata": {
        "id": "Qk1YNYaZGGpX",
        "colab": {
          "base_uri": "https://localhost:8080/"
        },
        "outputId": "719bd445-acb8-4bcc-acf3-a2f8463d4d9d"
      },
      "execution_count": null,
      "outputs": [
        {
          "output_type": "stream",
          "name": "stdout",
          "text": [
            "Drive already mounted at /content/drive; to attempt to forcibly remount, call drive.mount(\"/content/drive\", force_remount=True).\n"
          ]
        }
      ]
    },
    {
      "cell_type": "code",
      "source": [
        "#  动态绘图示例\n",
        "import matplotlib.pyplot as plt\n",
        "import torch\n",
        "import numpy as np\n",
        "x = torch.linspace(-np.pi, np.pi, 100)\n",
        "plt.ion()                    #打开交互模式\n",
        "for i in range(50):             #循环50次\n",
        "    plt.cla()                #清除上一次绘图\n",
        "    y = np.sin(x) + torch.rand(x.size())\n",
        "    plt.scatter(x, y)           #绘制散点图\n",
        "    plt.pause(0.1)\n",
        "plt.ioff()                   #关闭交互模式\n",
        "plt.show()"
      ],
      "metadata": {
        "id": "CoZz5oe_dBxK"
      },
      "execution_count": null,
      "outputs": []
    },
    {
      "cell_type": "code",
      "source": [
        "#  回归问题示例\n",
        "import numpy as np                          # 导入numpy模块\n",
        "import torch                              # 导入torch模块\n",
        "import torch.nn as nn                        # 简化nn模块\n",
        "import matplotlib.pyplot as plt                   # 导入并简化matplotlib模块\n",
        "\n",
        "x = torch.unsqueeze(torch.linspace(- np.pi, np.pi, 100), dim=1)     # 构建等差数列\n",
        "y = torch.sin(x) + 0.5 * torch.rand(x.size())              # 添加随机数\n",
        "\n",
        "\n",
        "class Net(nn.Module):                            # 定义类存储网络结构\n",
        "    def __init__(self):\n",
        "        super(Net, self).__init__()\n",
        "        self.predict = nn.Sequential(                # nn模块搭建网络\n",
        "            nn.Linear(1, 10),                   # 全连接层，1个输入10个输出\n",
        "            nn.ReLU(),                      # ReLU激活函数\n",
        "            nn.Linear(10, 1)                   # 全连接层，10个输入1个输出\n",
        "        )\n",
        "\n",
        "    def forward(self, x):                     # 定义前向传播过程\n",
        "        prediction = self.predict(x)              # 将x传入网络\n",
        "        return prediction                    # 返回预测值\n",
        "\n",
        "\n",
        "net = Net()\n",
        "optimizer = torch.optim.SGD(net.parameters(), lr=0.05)         # 设置优化器\n",
        "loss_func = nn.MSELoss()                        # 设置损失函数\n",
        "plt.ion()                                 # 打开交互模式\n",
        "for epoch in range(1000):                       # 训练部分\n",
        "    out = net(x)                           # 实际输出\n",
        "    loss = loss_func(out, y)                     # 实际输出和期望输出传入损失函数\n",
        "    optimizer.zero_grad()                        # 清除梯度\n",
        "    loss.backward()                           # 误差反向传播\n",
        "    optimizer.step()                          # 优化器开始优化\n",
        "    if epoch % 25 == 0:                       # 每25epoch显示\n",
        "        plt.cla()                          # 清除上一次绘图\n",
        "        plt.scatter(x, y)                     # 绘制散点图\n",
        "        plt.plot(x, out.data.numpy(), 'r', lw=5)          # 绘制曲线图\n",
        "        plt.text(0.5, 0, f'loss={loss}', fontdict={'size': 20, 'color': 'red'}) # 添加文字来显示loss值\n",
        "        plt.pause(0.1)                                    # 显示时间0.1s\n",
        "    plt.show()\n",
        "plt.ioff()                                                # 关闭交互模式\n",
        "plt.show()                                                # 定格显示最后结果\n"
      ],
      "metadata": {
        "id": "SoxMIaa3j1XW"
      },
      "execution_count": null,
      "outputs": []
    },
    {
      "cell_type": "code",
      "source": [
        "#  分类问题示例\n",
        "import torch                        # 导入torch模块\n",
        "import torch.nn as nn                  # 简化nn模块\n",
        "import matplotlib.pyplot as plt             # 导入并简化matplotlib模块\n",
        "\n",
        "data = torch.ones(100, 2)                 # 数据总数（总框架）\n",
        "x0 = torch.normal(2*data, 1)               # 第一类坐标，从满足mean为2和std为1的正态分布中抽取随机数\n",
        "y0 = torch.zeros(100)                    # 第一类标签设置为0\n",
        "x1 = torch.normal(-2*data, 1)               # 第二类坐标，从满足mean为-2和std为1的正态分布中抽取随机数\n",
        "y1 = torch.ones(100)                    # 第二类标签设置为1\n",
        "x = torch.cat((x0, x1)).type(torch.FloatTensor)      # x0,x1合并成x，并转换成float类型的tensor变量\n",
        "y = torch.cat((y0, y1)).type(torch.LongTensor)       # y0,y1合并成y，并转换成long类型的tensor变量\n",
        "\n",
        "\n",
        "class Net(nn.Module):                    # 定义类存储网络结构\n",
        "    def __init__(self):\n",
        "        super(Net, self).__init__()\n",
        "        self.classify = nn.Sequential(       # nn模块搭建网络\n",
        "            nn.Linear(2, 15),          # 全连接层，1个输入10个输出\n",
        "            nn.ReLU(),              # ReLU激活函数\n",
        "            nn.Linear(15, 2),          # 全连接层，10个输入1个输出\n",
        "            nn.Softmax(dim=1)\n",
        "        )\n",
        "\n",
        "    def forward(self, x):                # 定义前向传播过程\n",
        "        classification = self.classify(x)      # 将x传入网络\n",
        "        return classification            # 返回预测值\n",
        "\n",
        "\n",
        "net = Net()\n",
        "optimizer = torch.optim.SGD(net.parameters(), lr=0.03)    # 设置优化器\n",
        "loss_func = nn.CrossEntropyLoss()               # 设置损失函数\n",
        "plt.ion()                            # 打开交互模式\n",
        "for epoch in range(100):                   # 训练部分\n",
        "    out = net(x)                      # 实际输出\n",
        "    loss = loss_func(out, y)               # 实际输出和期望输出传入损失函数\n",
        "    optimizer.zero_grad()                  # 清除梯度\n",
        "    loss.backward()                     # 误差反向传播\n",
        "    optimizer.step()                     # 优化器开始优化\n",
        "    if epoch % 2 == 0:                 # 每2epoch显示\n",
        "        plt.cla()                            # 清除上一次绘图\n",
        "        classification = torch.max(out, 1)[1]             # 返回每一行中最大值的下标\n",
        "        class_y = classification.data.numpy()              # 转换成numpy数组\n",
        "        target_y = y.data.numpy()                           # 标签页转换成numpy数组，方便后面计算准确率\n",
        "        plt.scatter(x.data.numpy()[:, 0], x.data.numpy()[:, 1], c=class_y, s=100, cmap='RdYlGn')  # 绘制散点图\n",
        "        accuracy = sum(class_y == target_y)/200.                           # 计算准确率\n",
        "        plt.text(1.5, -4, f'Accuracy={accuracy}', fontdict={'size': 20, 'color':  'red'})  # 显示准确率\n",
        "        plt.pause(0.4)                                       # 时间0.4s\n",
        "    plt.show()\n",
        "plt.ioff()                                                # 关闭交互模式\n",
        "plt.show()                                                # 定格显示最后结果\n"
      ],
      "metadata": {
        "id": "WroEJg1QsqZX"
      },
      "execution_count": null,
      "outputs": []
    }
  ]
}