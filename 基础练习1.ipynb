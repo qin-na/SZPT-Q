{
  "nbformat": 4,
  "nbformat_minor": 0,
  "metadata": {
    "colab": {
      "provenance": [],
      "authorship_tag": "ABX9TyN9rEFGu6juk+m/z+Gbp8kE",
      "include_colab_link": true
    },
    "kernelspec": {
      "name": "python3",
      "display_name": "Python 3"
    },
    "language_info": {
      "name": "python"
    }
  },
  "cells": [
    {
      "cell_type": "markdown",
      "metadata": {
        "id": "view-in-github",
        "colab_type": "text"
      },
      "source": [
        "<a href=\"https://colab.research.google.com/github/qin-na/SZPT-Q/blob/main/%E5%9F%BA%E7%A1%80%E7%BB%83%E4%B9%A01.ipynb\" target=\"_parent\"><img src=\"https://colab.research.google.com/assets/colab-badge.svg\" alt=\"Open In Colab\"/></a>"
      ]
    },
    {
      "cell_type": "code",
      "execution_count": null,
      "metadata": {
        "id": "JXTo_IwgPDe0"
      },
      "outputs": [],
      "source": [
        "list(range(10))"
      ]
    },
    {
      "cell_type": "code",
      "source": [
        "# 定义函数并求平均值\n",
        "def avg(x,y):\n",
        "  print(\"first input is\", x)\n",
        "  print(\"second input os\", y)\n",
        "  a = (x+y)/2.0  #  除以2.0，确定使用小数部分，若除以整数2，运行结果为250\n",
        "  print(\"average is\", a)\n",
        "  return a  #  函数结尾\n",
        "avg(200,301)   # 调用函数\n"
      ],
      "metadata": {
        "id": "tRGOgr3HPaNZ"
      },
      "execution_count": null,
      "outputs": []
    },
    {
      "cell_type": "code",
      "source": [
        "import numpy   #数组\n",
        "a=numpy.zeros([3,2])\n",
        "print(a)\n",
        "a[0,0]=1\n",
        "a[1,0]=2\n",
        "a[1,1]=9\n",
        "a[2,1]=6\n",
        "print(a)\n",
        "print(a[1,1])"
      ],
      "metadata": {
        "id": "GxiSZ4UDUOwr"
      },
      "execution_count": null,
      "outputs": []
    },
    {
      "cell_type": "code",
      "source": [
        "#绘制数组\n",
        "import numpy\n",
        "a=numpy.zeros([3,2])\n",
        "a[0,0]=3\n",
        "a[0,1]=4\n",
        "a[2,0]=1\n",
        "a[1,1]=8\n",
        "a[2,1]=17\n",
        "import matplotlib.pyplot\n",
        "%matplotlib inline\n",
        "matplotlib.pyplot.imshow(a,interpolation=\"nearest\")   #imshow()是创建绘图的指令"
      ],
      "metadata": {
        "id": "_U6Jl6HSl3mn"
      },
      "execution_count": null,
      "outputs": []
    },
    {
      "cell_type": "code",
      "source": [
        "#类是定义，对象是所定义类的实例\n",
        "class Dog:\n",
        "  def __init__(self,petname,temp):\n",
        "    self.name=petname;\n",
        "    self.temperature=temp;\n",
        "  def status(self):\n",
        "    print(\"dog name is\",self.name)\n",
        "    print(\"dog temperature is\",self.temperature)\n",
        "    pass\n",
        "  def setTemperature(sela,temp):\n",
        "    self.temperature=temp;\n",
        "    pass\n",
        "  def bark(self):\n",
        "    print(\"woof!\")\n",
        "    pass\n",
        "  pass\n",
        "lassie=Dog(\"Lassie\",37)\n",
        "lassie.status()\n"
      ],
      "metadata": {
        "id": "GyPWRqabVIKC"
      },
      "execution_count": null,
      "outputs": []
    },
    {
      "cell_type": "code",
      "source": [],
      "metadata": {
        "id": "szikM_MppMsv"
      },
      "execution_count": null,
      "outputs": []
    }
  ]
}